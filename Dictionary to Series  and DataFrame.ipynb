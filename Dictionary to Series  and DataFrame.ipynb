{
 "cells": [
  {
   "cell_type": "code",
   "execution_count": 1,
   "id": "9510ebb4-1f96-4715-934e-d602501b62f1",
   "metadata": {},
   "outputs": [],
   "source": [
    "import pandas as pd"
   ]
  },
  {
   "cell_type": "code",
   "execution_count": 2,
   "id": "509e2839-ad77-4e55-af76-a64530b57e87",
   "metadata": {},
   "outputs": [],
   "source": [
    "#Create a Dictionary\n",
    "data={ \n",
    "    'name':['Easin','Shafin','Sanim'],\n",
    "    'age': [24,23,22],\n",
    "    'city':['Dinajpur','Dhaka','Brisal']\n",
    "}"
   ]
  },
  {
   "cell_type": "code",
   "execution_count": 3,
   "id": "ea27ea10-939d-4ebc-9e78-3e09e0ea0bf3",
   "metadata": {},
   "outputs": [
    {
     "data": {
      "text/plain": [
       "{'name': ['Easin', 'Shafin', 'Sanim'],\n",
       " 'age': [24, 23, 22],\n",
       " 'city': ['Dinajpur', 'Dhaka', 'Brisal']}"
      ]
     },
     "execution_count": 3,
     "metadata": {},
     "output_type": "execute_result"
    }
   ],
   "source": [
    "data"
   ]
  },
  {
   "cell_type": "code",
   "execution_count": 8,
   "id": "010314e1-7beb-4c94-a858-723312d414aa",
   "metadata": {},
   "outputs": [
    {
     "data": {
      "text/plain": [
       "0     Easin\n",
       "1    Shafin\n",
       "2     Sanim\n",
       "dtype: object"
      ]
     },
     "execution_count": 8,
     "metadata": {},
     "output_type": "execute_result"
    }
   ],
   "source": [
    "#create a Series from the dictionary\n",
    "name_series=pd.Series(data['name'])\n",
    "name_series"
   ]
  },
  {
   "cell_type": "code",
   "execution_count": 6,
   "id": "7ddc7443-49ca-434d-9c01-d8ee0a866b4c",
   "metadata": {},
   "outputs": [
    {
     "data": {
      "text/plain": [
       "0     Easin\n",
       "1    Shafin\n",
       "2     Sanim\n",
       "Name: Name, dtype: object"
      ]
     },
     "execution_count": 6,
     "metadata": {},
     "output_type": "execute_result"
    }
   ],
   "source": [
    "name_series1=pd.Series(data['name'],name='Name')\n",
    "name_series1\n"
   ]
  },
  {
   "cell_type": "code",
   "execution_count": 9,
   "id": "93c56191-1dd5-4a87-846b-1a465eaa58ee",
   "metadata": {},
   "outputs": [
    {
     "data": {
      "text/html": [
       "<div>\n",
       "<style scoped>\n",
       "    .dataframe tbody tr th:only-of-type {\n",
       "        vertical-align: middle;\n",
       "    }\n",
       "\n",
       "    .dataframe tbody tr th {\n",
       "        vertical-align: top;\n",
       "    }\n",
       "\n",
       "    .dataframe thead th {\n",
       "        text-align: right;\n",
       "    }\n",
       "</style>\n",
       "<table border=\"1\" class=\"dataframe\">\n",
       "  <thead>\n",
       "    <tr style=\"text-align: right;\">\n",
       "      <th></th>\n",
       "      <th>name</th>\n",
       "      <th>age</th>\n",
       "      <th>city</th>\n",
       "    </tr>\n",
       "  </thead>\n",
       "  <tbody>\n",
       "    <tr>\n",
       "      <th>0</th>\n",
       "      <td>Easin</td>\n",
       "      <td>24</td>\n",
       "      <td>Dinajpur</td>\n",
       "    </tr>\n",
       "    <tr>\n",
       "      <th>1</th>\n",
       "      <td>Shafin</td>\n",
       "      <td>23</td>\n",
       "      <td>Dhaka</td>\n",
       "    </tr>\n",
       "    <tr>\n",
       "      <th>2</th>\n",
       "      <td>Sanim</td>\n",
       "      <td>22</td>\n",
       "      <td>Brisal</td>\n",
       "    </tr>\n",
       "  </tbody>\n",
       "</table>\n",
       "</div>"
      ],
      "text/plain": [
       "     name  age      city\n",
       "0   Easin   24  Dinajpur\n",
       "1  Shafin   23     Dhaka\n",
       "2   Sanim   22    Brisal"
      ]
     },
     "execution_count": 9,
     "metadata": {},
     "output_type": "execute_result"
    }
   ],
   "source": [
    "df=pd.DataFrame(data)\n",
    "df"
   ]
  },
  {
   "cell_type": "code",
   "execution_count": 10,
   "id": "c82858a7-1406-4928-8d07-03b7a8ac6e50",
   "metadata": {},
   "outputs": [
    {
     "data": {
      "text/plain": [
       "pandas.core.frame.DataFrame"
      ]
     },
     "execution_count": 10,
     "metadata": {},
     "output_type": "execute_result"
    }
   ],
   "source": [
    "type(df)"
   ]
  },
  {
   "cell_type": "code",
   "execution_count": 11,
   "id": "a3a56061-bc07-4bc1-92bb-f8aff4406e3a",
   "metadata": {},
   "outputs": [
    {
     "data": {
      "text/plain": [
       "0    24\n",
       "1    23\n",
       "2    22\n",
       "Name: age, dtype: int64"
      ]
     },
     "execution_count": 11,
     "metadata": {},
     "output_type": "execute_result"
    }
   ],
   "source": [
    "age_series=df['age']\n",
    "age_series"
   ]
  },
  {
   "cell_type": "code",
   "execution_count": null,
   "id": "635bfa66-37af-4cc7-b4ab-c5de6833bc43",
   "metadata": {},
   "outputs": [],
   "source": []
  }
 ],
 "metadata": {
  "kernelspec": {
   "display_name": "Python 3 (ipykernel)",
   "language": "python",
   "name": "python3"
  },
  "language_info": {
   "codemirror_mode": {
    "name": "ipython",
    "version": 3
   },
   "file_extension": ".py",
   "mimetype": "text/x-python",
   "name": "python",
   "nbconvert_exporter": "python",
   "pygments_lexer": "ipython3",
   "version": "3.12.4"
  }
 },
 "nbformat": 4,
 "nbformat_minor": 5
}
